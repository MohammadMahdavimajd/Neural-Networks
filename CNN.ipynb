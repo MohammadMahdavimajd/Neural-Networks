{
 "cells": [
  {
   "cell_type": "code",
   "execution_count": 14,
   "id": "40b055d5",
   "metadata": {},
   "outputs": [],
   "source": [
    "import torch \n",
    "import torch.nn as nn\n",
    "import torch.optim as optim \n",
    "import torch.nn.functional as F \n",
    "import torchvision\n",
    "import torchvision.transforms as transforms\n",
    "\n",
    "import matplotlib.pyplot as plt \n",
    "import numpy as np \n"
   ]
  },
  {
   "cell_type": "code",
   "execution_count": 15,
   "id": "b3684631",
   "metadata": {},
   "outputs": [],
   "source": [
    "transform = transforms.Compose([transforms.ToTensor(), transforms.Normalize((0.5,), (0.5 ,))])\n",
    "\n",
    "trainset = torchvision.datasets.MNIST(root='./data', train = True , download = True , transform=transform)"
   ]
  },
  {
   "cell_type": "code",
   "execution_count": 16,
   "id": "b1b1ee1b",
   "metadata": {},
   "outputs": [],
   "source": [
    "trainloader = torch.utils.data.DataLoader(trainset , batch_size=32, shuffle=True)\n",
    "\n",
    "testset=torchvision.datasets.MNIST(root = '/.data', train = False , download = True , transform = transform)\n",
    "\n",
    "testloader = torch.utils.data.DataLoader( testset , batch_size=32 , shuffle=True)"
   ]
  },
  {
   "cell_type": "code",
   "execution_count": 17,
   "id": "61e397e9",
   "metadata": {},
   "outputs": [],
   "source": [
    "classes = tuple(str(i) for i in range(10))"
   ]
  },
  {
   "cell_type": "code",
   "execution_count": 18,
   "id": "782ca457",
   "metadata": {},
   "outputs": [
    {
     "data": {
      "image/png": "[encoded data removed]",
      "text/plain": [
       "<Figure size 1200x500 with 10 Axes>"
      ]
     },
     "metadata": {},
     "output_type": "display_data"
    }
   ],
   "source": [
    "images , labels = next(iter(trainloader))\n",
    "\n",
    "fig , axes = plt.subplots(2 , 5 , figsize=(12 , 5))\n",
    "for i ,ax in enumerate(axes.flatten()):  \n",
    "        ax.imshow(images[i].numpy().squeeze(), cmap='gray')\n",
    "        ax.set_title(f'label: {labels[i].item()}')\n",
    "        ax.axis('off')\n",
    "plt.tight_layout()\n",
    "        \n"
   ]
  },
  {
   "cell_type": "code",
   "execution_count": 25,
   "id": "2a1eb351",
   "metadata": {},
   "outputs": [],
   "source": [
    "class CNN(nn.Module):\n",
    "    def __init__(self): \n",
    "        super(CNN , self).__init__()\n",
    "        self.conv1=nn.Conv2d(1 , 32 , kernel_size = 3 , stride=1 , padding='same')\n",
    "        self.conv2=nn.Conv2d(32 , 64 , kernel_size=3 , stride = 1 , padding='same')\n",
    "        self.conv3 = nn.Conv2d(64 , 128 , kernel_size =3 , stride=1 , padding='same')\n",
    "        self.fc1 = nn.Linear(128*3*3 , 256)\n",
    "        self.fc2 = nn.Linear(256 , 128)\n",
    "        self.fc3 = nn.Linear(128 , 10)\n",
    "        self.pool = nn.MaxPool2d(2 , 2)\n",
    "        self.dropout = nn.Dropout(0.25)\n",
    "        \n",
    "    def forward(self , x): \n",
    "        x=self.pool(F.relu(self.conv1(x)))\n",
    "        x=self.pool(F.relu(self.conv2(x)))\n",
    "        x=self.pool(F.relu(self.conv3(x)))\n",
    "        x=x.view( -1 , 128*3*3)\n",
    "        x=F.relu(self.fc1(x))\n",
    "        x=self.dropout(x)\n",
    "        x=F.relu(self.fc2(x))\n",
    "        x=self.fc3(x)\n",
    "        return x\n",
    "        "
   ]
  },
  {
   "cell_type": "code",
   "execution_count": 26,
   "id": "bf0cd5e6",
   "metadata": {},
   "outputs": [],
   "source": [
    "model = CNN()\n",
    "criterion = nn.CrossEntropyLoss()\n",
    "optimizer = optim.Adam(model.parameters(), lr=0.001)"
   ]
  },
  {
   "cell_type": "code",
   "execution_count": 29,
   "id": "59b9f372",
   "metadata": {},
   "outputs": [
    {
     "name": "stdout",
     "output_type": "stream",
     "text": [
      "[1 , 100 ] loss: 0.040\n",
      "[1 , 200 ] loss: 0.022\n",
      "[1 , 300 ] loss: 0.018\n",
      "[1 , 400 ] loss: 0.023\n",
      "[1 , 500 ] loss: 0.019\n",
      "[1 , 600 ] loss: 0.016\n",
      "[1 , 700 ] loss: 0.015\n",
      "[1 , 800 ] loss: 0.029\n",
      "[1 , 900 ] loss: 0.020\n",
      "[1 , 1000 ] loss: 0.018\n",
      "[1 , 1100 ] loss: 0.023\n",
      "[1 , 1200 ] loss: 0.033\n",
      "[1 , 1300 ] loss: 0.027\n",
      "[1 , 1400 ] loss: 0.028\n",
      "[1 , 1500 ] loss: 0.030\n",
      "[1 , 1600 ] loss: 0.034\n",
      "[1 , 1700 ] loss: 0.018\n",
      "[1 , 1800 ] loss: 0.029\n",
      "[2 , 100 ] loss: 0.011\n",
      "[2 , 200 ] loss: 0.020\n",
      "[2 , 300 ] loss: 0.013\n",
      "[2 , 400 ] loss: 0.023\n",
      "[2 , 500 ] loss: 0.020\n",
      "[2 , 600 ] loss: 0.023\n",
      "[2 , 700 ] loss: 0.026\n",
      "[2 , 800 ] loss: 0.018\n",
      "[2 , 900 ] loss: 0.021\n",
      "[2 , 1000 ] loss: 0.020\n",
      "[2 , 1100 ] loss: 0.020\n",
      "[2 , 1200 ] loss: 0.013\n",
      "[2 , 1300 ] loss: 0.021\n",
      "[2 , 1400 ] loss: 0.023\n",
      "[2 , 1500 ] loss: 0.019\n",
      "[2 , 1600 ] loss: 0.013\n",
      "[2 , 1700 ] loss: 0.035\n",
      "[2 , 1800 ] loss: 0.012\n",
      "[3 , 100 ] loss: 0.023\n",
      "[3 , 200 ] loss: 0.022\n",
      "[3 , 300 ] loss: 0.016\n",
      "[3 , 400 ] loss: 0.014\n",
      "[3 , 500 ] loss: 0.013\n",
      "[3 , 600 ] loss: 0.023\n",
      "[3 , 700 ] loss: 0.009\n",
      "[3 , 800 ] loss: 0.020\n",
      "[3 , 900 ] loss: 0.016\n",
      "[3 , 1000 ] loss: 0.015\n",
      "[3 , 1100 ] loss: 0.010\n",
      "[3 , 1200 ] loss: 0.013\n",
      "[3 , 1300 ] loss: 0.023\n",
      "[3 , 1400 ] loss: 0.023\n",
      "[3 , 1500 ] loss: 0.013\n",
      "[3 , 1600 ] loss: 0.015\n",
      "[3 , 1700 ] loss: 0.032\n",
      "[3 , 1800 ] loss: 0.029\n",
      "[4 , 100 ] loss: 0.009\n",
      "[4 , 200 ] loss: 0.022\n",
      "[4 , 300 ] loss: 0.016\n",
      "[4 , 400 ] loss: 0.012\n",
      "[4 , 500 ] loss: 0.022\n",
      "[4 , 600 ] loss: 0.014\n",
      "[4 , 700 ] loss: 0.019\n",
      "[4 , 800 ] loss: 0.016\n",
      "[4 , 900 ] loss: 0.011\n",
      "[4 , 1000 ] loss: 0.011\n",
      "[4 , 1100 ] loss: 0.024\n",
      "[4 , 1200 ] loss: 0.011\n",
      "[4 , 1300 ] loss: 0.023\n",
      "[4 , 1400 ] loss: 0.012\n",
      "[4 , 1500 ] loss: 0.016\n",
      "[4 , 1600 ] loss: 0.020\n",
      "[4 , 1700 ] loss: 0.015\n",
      "[4 , 1800 ] loss: 0.015\n",
      "[5 , 100 ] loss: 0.012\n",
      "[5 , 200 ] loss: 0.015\n",
      "[5 , 300 ] loss: 0.009\n",
      "[5 , 400 ] loss: 0.019\n",
      "[5 , 500 ] loss: 0.012\n",
      "[5 , 600 ] loss: 0.023\n",
      "[5 , 700 ] loss: 0.015\n",
      "[5 , 800 ] loss: 0.011\n",
      "[5 , 900 ] loss: 0.012\n",
      "[5 , 1000 ] loss: 0.018\n",
      "[5 , 1100 ] loss: 0.009\n",
      "[5 , 1200 ] loss: 0.008\n",
      "[5 , 1300 ] loss: 0.009\n",
      "[5 , 1400 ] loss: 0.018\n",
      "[5 , 1500 ] loss: 0.017\n",
      "[5 , 1600 ] loss: 0.022\n",
      "[5 , 1700 ] loss: 0.024\n",
      "[5 , 1800 ] loss: 0.023\n",
      "finished_training\n"
     ]
    }
   ],
   "source": [
    "def train_model(model , trainloader , criterion , optimizer , num_epochs=5):\n",
    "        for epoch in range(num_epochs): \n",
    "            running_loss = 0.0 \n",
    "            for i  , data in enumerate(trainloader , 0):\n",
    "                inputs , labels= data \n",
    "                optimizer.zero_grad()\n",
    "                outputs = model(inputs)\n",
    "                loss = criterion(outputs , labels)\n",
    "                loss.backward()\n",
    "                optimizer.step()\n",
    "                running_loss +=loss.item()\n",
    "                if i % 100 == 99 : \n",
    "                    print(f'[{epoch +1} , {i+1} ] loss: {running_loss/100:.3f}') \n",
    "                    running_loss = 0.0 \n",
    "                    \n",
    "        print('finished_training')\n",
    "        \n",
    "train_model(model , trainloader , criterion , optimizer , num_epochs=5)"
   ]
  },
  {
   "cell_type": "code",
   "execution_count": 31,
   "id": "4aa50222",
   "metadata": {},
   "outputs": [
    {
     "name": "stdout",
     "output_type": "stream",
     "text": [
      "Accuracy on 1000 test image = 99.63\n"
     ]
    }
   ],
   "source": [
    "correct = 0 \n",
    "total=0 \n",
    "with torch.no_grad():\n",
    "        for data in trainloader: \n",
    "            images , labels = data \n",
    "            outputs = model(images)\n",
    "            _ , predicted = torch.max( outputs.data , 1)\n",
    "            total+=labels.size(0)\n",
    "            correct += (predicted == labels).sum().item()\n",
    "            \n",
    "print(f'Accuracy on 1000 test image = {100*correct/ total:.2f}')"
   ]
  }
 ],
 "metadata": {
  "kernelspec": {
   "display_name": "Python 3",
   "language": "python",
   "name": "python3"
  },
  "language_info": {
   "codemirror_mode": {
    "name": "ipython",
    "version": 3
   },
   "file_extension": ".py",
   "mimetype": "text/x-python",
   "name": "python",
   "nbconvert_exporter": "python",
   "pygments_lexer": "ipython3",
   "version": "3.10.11"
  }
 },
 "nbformat": 4,
 "nbformat_minor": 5
}
