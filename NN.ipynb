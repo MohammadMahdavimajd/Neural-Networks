{
 "cells": [
  {
   "cell_type": "code",
   "execution_count": 169,
   "id": "3c1260b6",
   "metadata": {},
   "outputs": [],
   "source": [
    "import matplotlib.pyplot as plt \n",
    "import pandas as pd \n",
    "\n",
    "from sklearn.datasets import fetch_california_housing \n",
    "from sklearn.model_selection import train_test_split \n",
    "from sklearn.preprocessing import StandardScaler \n",
    "from sklearn.metrics import mean_squared_error , r2_score \n"
   ]
  },
  {
   "cell_type": "code",
   "execution_count": 170,
   "id": "e730dc8c",
   "metadata": {},
   "outputs": [],
   "source": [
    "data = fetch_california_housing()"
   ]
  },
  {
   "cell_type": "code",
   "execution_count": 171,
   "id": "baa6adb1",
   "metadata": {},
   "outputs": [
    {
     "data": {
      "text/plain": [
       "{'data': array([[   8.3252    ,   41.        ,    6.98412698, ...,    2.55555556,\n",
       "           37.88      , -122.23      ],\n",
       "        [   8.3014    ,   21.        ,    6.23813708, ...,    2.10984183,\n",
       "           37.86      , -122.22      ],\n",
       "        [   7.2574    ,   52.        ,    8.28813559, ...,    2.80225989,\n",
       "           37.85      , -122.24      ],\n",
       "        ...,\n",
       "        [   1.7       ,   17.        ,    5.20554273, ...,    2.3256351 ,\n",
       "           39.43      , -121.22      ],\n",
       "        [   1.8672    ,   18.        ,    5.32951289, ...,    2.12320917,\n",
       "           39.43      , -121.32      ],\n",
       "        [   2.3886    ,   16.        ,    5.25471698, ...,    2.61698113,\n",
       "           39.37      , -121.24      ]]),\n",
       " 'target': array([4.526, 3.585, 3.521, ..., 0.923, 0.847, 0.894]),\n",
       " 'frame': None,\n",
       " 'target_names': ['MedHouseVal'],\n",
       " 'feature_names': ['MedInc',\n",
       "  'HouseAge',\n",
       "  'AveRooms',\n",
       "  'AveBedrms',\n",
       "  'Population',\n",
       "  'AveOccup',\n",
       "  'Latitude',\n",
       "  'Longitude'],\n",
       " 'DESCR': '.. _california_housing_dataset:\\n\\nCalifornia Housing dataset\\n--------------------------\\n\\n**Data Set Characteristics:**\\n\\n:Number of Instances: 20640\\n\\n:Number of Attributes: 8 numeric, predictive attributes and the target\\n\\n:Attribute Information:\\n    - MedInc        median income in block group\\n    - HouseAge      median house age in block group\\n    - AveRooms      average number of rooms per household\\n    - AveBedrms     average number of bedrooms per household\\n    - Population    block group population\\n    - AveOccup      average number of household members\\n    - Latitude      block group latitude\\n    - Longitude     block group longitude\\n\\n:Missing Attribute Values: None\\n\\nThis dataset was obtained from the StatLib repository.\\nhttps://www.dcc.fc.up.pt/~ltorgo/Regression/cal_housing.html\\n\\nThe target variable is the median house value for California districts,\\nexpressed in hundreds of thousands of dollars ($100,000).\\n\\nThis dataset was derived from the 1990 U.S. census, using one row per census\\nblock group. A block group is the smallest geographical unit for which the U.S.\\nCensus Bureau publishes sample data (a block group typically has a population\\nof 600 to 3,000 people).\\n\\nA household is a group of people residing within a home. Since the average\\nnumber of rooms and bedrooms in this dataset are provided per household, these\\ncolumns may take surprisingly large values for block groups with few households\\nand many empty houses, such as vacation resorts.\\n\\nIt can be downloaded/loaded using the\\n:func:`sklearn.datasets.fetch_california_housing` function.\\n\\n.. rubric:: References\\n\\n- Pace, R. Kelley and Ronald Barry, Sparse Spatial Autoregressions,\\n  Statistics and Probability Letters, 33:291-297, 1997.\\n'}"
      ]
     },
     "execution_count": 171,
     "metadata": {},
     "output_type": "execute_result"
    }
   ],
   "source": [
    "data"
   ]
  },
  {
   "cell_type": "code",
   "execution_count": 172,
   "id": "7ed87c74",
   "metadata": {},
   "outputs": [],
   "source": [
    "X= pd.DataFrame(data.data , columns = data.feature_names)\n",
    "y= pd.DataFrame( data.target , columns = ['MedHouseVal'])"
   ]
  },
  {
   "cell_type": "code",
   "execution_count": 173,
   "id": "eaf7eb5b",
   "metadata": {},
   "outputs": [
    {
     "data": {
      "text/plain": [
       "0"
      ]
     },
     "execution_count": 173,
     "metadata": {},
     "output_type": "execute_result"
    }
   ],
   "source": [
    "X.isnull().sum().sum()"
   ]
  },
  {
   "cell_type": "code",
   "execution_count": 174,
   "id": "d240f6d0",
   "metadata": {},
   "outputs": [],
   "source": [
    "X_train , X_test , y_train , y_test = train_test_split( X , y , test_size=0.2 , random_state=42)\n",
    "scaler = StandardScaler()\n",
    "X_train = scaler.fit_transform(X_train)\n",
    "X_test = scaler.transform(X_test)"
   ]
  },
  {
   "cell_type": "code",
   "execution_count": 175,
   "id": "60013ab6",
   "metadata": {},
   "outputs": [],
   "source": [
    "import torch\n",
    "from torch.utils.data import DataLoader , TensorDataset \n",
    "import torch.nn as nn \n",
    "import torch.optim as optim \n"
   ]
  },
  {
   "cell_type": "markdown",
   "id": "9b35fe20",
   "metadata": {},
   "source": [
    "### 1. converting data to torch version\n"
   ]
  },
  {
   "cell_type": "code",
   "execution_count": 176,
   "id": "b907e971",
   "metadata": {},
   "outputs": [],
   "source": [
    "X_train_tensor = torch.tensor(X_train , dtype=torch.float32)\n",
    "y_train_tensor= torch.tensor(y_train.values , dtype = torch.float32)\n",
    "X_test_tensor = torch.tensor(X_test , dtype=torch.float32)\n",
    "y_test_tensor= torch.tensor(y_test.values , dtype = torch.float32)\n"
   ]
  },
  {
   "cell_type": "markdown",
   "id": "88a387d0",
   "metadata": {},
   "source": [
    "### 2. converting dataset and load it to Tensor form"
   ]
  },
  {
   "cell_type": "code",
   "execution_count": 177,
   "id": "8aa9cff8",
   "metadata": {},
   "outputs": [],
   "source": [
    "train_loader = DataLoader(TensorDataset(X_train_tensor , y_train_tensor) , batch_size = 32 , shuffle=True)\n",
    "test_loader = DataLoader(TensorDataset(X_test_tensor , y_test_tensor) , batch_size = 32, shuffle=False)"
   ]
  },
  {
   "cell_type": "code",
   "execution_count": 178,
   "id": "e546e3e1",
   "metadata": {},
   "outputs": [],
   "source": [
    "class RegressionNN(nn.Module): \n",
    "    def __init__ (self , input_size=8): \n",
    "        super(RegressionNN , self).__init__()\n",
    "        self.fc1 = nn.Linear(input_size , 128)\n",
    "        self.fc2 = nn.Linear(128 , 64)\n",
    "        self.fc3 = nn.Linear(64 , 32) \n",
    "        self.fc4 = nn.Linear(32 , 1)\n",
    "    def forward (self , x): \n",
    "        x=torch.relu(self.fc1(x))\n",
    "        x=torch.relu(self.fc2(x))\n",
    "        x=torch.relu(self.fc3(x))\n",
    "        x= self.fc4(x)\n",
    "        return x\n",
    "        "
   ]
  },
  {
   "cell_type": "code",
   "execution_count": 179,
   "id": "1fdededb",
   "metadata": {},
   "outputs": [],
   "source": [
    "pytorch_model = RegressionNN()\n",
    "\n",
    "criterion = nn.MSELoss()\n",
    "optimizer = optim.Adam(pytorch_model.parameters(), lr=0.001)"
   ]
  },
  {
   "cell_type": "code",
   "execution_count": 180,
   "id": "fffcb11f",
   "metadata": {},
   "outputs": [
    {
     "name": "stdout",
     "output_type": "stream",
     "text": [
      "pytorch model summary:\n",
      "----------------------------------------------------------------\n",
      "        Layer (type)               Output Shape         Param #\n",
      "================================================================\n",
      "            Linear-1                  [-1, 128]           1,152\n",
      "            Linear-2                   [-1, 64]           8,256\n",
      "            Linear-3                   [-1, 32]           2,080\n",
      "            Linear-4                    [-1, 1]              33\n",
      "================================================================\n",
      "Total params: 11,521\n",
      "Trainable params: 11,521\n",
      "Non-trainable params: 0\n",
      "----------------------------------------------------------------\n",
      "Input size (MB): 0.00\n",
      "Forward/backward pass size (MB): 0.00\n",
      "Params size (MB): 0.04\n",
      "Estimated Total Size (MB): 0.05\n",
      "----------------------------------------------------------------\n"
     ]
    }
   ],
   "source": [
    "from torchsummary import summary\n",
    "print('pytorch model summary:')\n",
    "summary( pytorch_model , input_size=(8,))"
   ]
  },
  {
   "cell_type": "code",
   "execution_count": 181,
   "id": "9efa03ab",
   "metadata": {},
   "outputs": [
    {
     "name": "stdout",
     "output_type": "stream",
     "text": [
      "epoch: 1/100 , loss: 0.9002845763236054\n",
      "epoch: 2/100 , loss: 0.3987004355953414\n",
      "epoch: 3/100 , loss: 0.3715012566179268\n",
      "epoch: 4/100 , loss: 0.3504860571535059\n",
      "epoch: 5/100 , loss: 0.33810010379136995\n",
      "epoch: 6/100 , loss: 0.3279580239697482\n",
      "epoch: 7/100 , loss: 0.3160499163087486\n",
      "epoch: 8/100 , loss: 0.3101043571364279\n",
      "epoch: 9/100 , loss: 0.30635834290364455\n",
      "epoch: 10/100 , loss: 0.2997486053049102\n",
      "epoch: 11/100 , loss: 0.29255258667376616\n",
      "epoch: 12/100 , loss: 0.28665958523981333\n",
      "epoch: 13/100 , loss: 0.2897123590602662\n",
      "epoch: 14/100 , loss: 0.28180852717207383\n",
      "epoch: 15/100 , loss: 0.2824140025966967\n",
      "epoch: 16/100 , loss: 0.2817397397733474\n",
      "epoch: 17/100 , loss: 0.282348923081922\n",
      "epoch: 18/100 , loss: 0.2790659776376199\n",
      "epoch: 19/100 , loss: 0.2737309899210006\n",
      "epoch: 20/100 , loss: 0.2707777785844812\n",
      "epoch: 21/100 , loss: 0.26907540163270727\n",
      "epoch: 22/100 , loss: 0.26746998546832756\n",
      "epoch: 23/100 , loss: 0.27704542206759136\n",
      "epoch: 24/100 , loss: 0.2646346707330194\n",
      "epoch: 25/100 , loss: 0.2615517377564611\n",
      "epoch: 26/100 , loss: 0.25736355283405893\n",
      "epoch: 27/100 , loss: 0.2566547848486392\n",
      "epoch: 28/100 , loss: 0.2510361085653074\n",
      "epoch: 29/100 , loss: 0.2532840861339671\n",
      "epoch: 30/100 , loss: 0.25004701368337456\n",
      "epoch: 31/100 , loss: 0.24668404744403769\n",
      "epoch: 32/100 , loss: 0.24673411343246698\n",
      "epoch: 33/100 , loss: 0.2470678324529598\n",
      "epoch: 34/100 , loss: 0.24396614066159078\n",
      "epoch: 35/100 , loss: 0.2397926960847983\n",
      "epoch: 36/100 , loss: 0.2438993933791107\n",
      "epoch: 37/100 , loss: 0.2390870493511821\n",
      "epoch: 38/100 , loss: 0.23662479507715203\n",
      "epoch: 39/100 , loss: 0.2368229864699434\n",
      "epoch: 40/100 , loss: 0.23435737695111786\n",
      "epoch: 41/100 , loss: 0.23368665448916975\n",
      "epoch: 42/100 , loss: 0.23156462240126707\n",
      "epoch: 43/100 , loss: 0.2307220123015171\n",
      "epoch: 44/100 , loss: 0.22982582558206346\n",
      "epoch: 45/100 , loss: 0.23108889945140182\n",
      "epoch: 46/100 , loss: 0.22896505822247082\n",
      "epoch: 47/100 , loss: 0.2263783678094777\n",
      "epoch: 48/100 , loss: 0.2249352332320093\n",
      "epoch: 49/100 , loss: 0.22646346263760744\n",
      "epoch: 50/100 , loss: 0.22440163313967082\n",
      "epoch: 51/100 , loss: 0.2216280887928582\n",
      "epoch: 52/100 , loss: 0.22099689875057962\n",
      "epoch: 53/100 , loss: 0.2188840039478716\n",
      "epoch: 54/100 , loss: 0.21869412421920273\n",
      "epoch: 55/100 , loss: 0.21756201539939457\n",
      "epoch: 56/100 , loss: 0.21312497491955526\n",
      "epoch: 57/100 , loss: 0.21261110755997573\n",
      "epoch: 58/100 , loss: 0.21132776158493619\n",
      "epoch: 59/100 , loss: 0.2112038229743755\n",
      "epoch: 60/100 , loss: 0.21122618968952303\n",
      "epoch: 61/100 , loss: 0.21122606866090565\n",
      "epoch: 62/100 , loss: 0.21439383219378863\n",
      "epoch: 63/100 , loss: 0.20787025671885456\n",
      "epoch: 64/100 , loss: 0.20700248750287664\n",
      "epoch: 65/100 , loss: 0.20773180465885374\n",
      "epoch: 66/100 , loss: 0.20564937616821177\n",
      "epoch: 67/100 , loss: 0.20395758488872487\n",
      "epoch: 68/100 , loss: 0.20354557277042737\n",
      "epoch: 69/100 , loss: 0.20565895038808502\n",
      "epoch: 70/100 , loss: 0.20145171302435702\n",
      "epoch: 71/100 , loss: 0.20223710884506158\n",
      "epoch: 72/100 , loss: 0.20041318709940412\n",
      "epoch: 73/100 , loss: 0.19996812762042812\n",
      "epoch: 74/100 , loss: 0.19839277714779674\n",
      "epoch: 75/100 , loss: 0.19714997764388026\n",
      "epoch: 76/100 , loss: 0.19696641824561958\n",
      "epoch: 77/100 , loss: 0.19639527647532234\n",
      "epoch: 78/100 , loss: 0.1972929271472286\n",
      "epoch: 79/100 , loss: 0.19605327811987364\n",
      "epoch: 80/100 , loss: 0.19525275113017754\n",
      "epoch: 81/100 , loss: 0.19416418133751134\n",
      "epoch: 82/100 , loss: 0.19398693064617556\n",
      "epoch: 83/100 , loss: 0.19526405289567025\n",
      "epoch: 84/100 , loss: 0.19101433708267504\n",
      "epoch: 85/100 , loss: 0.19014688841854185\n",
      "epoch: 86/100 , loss: 0.18961658655817426\n",
      "epoch: 87/100 , loss: 0.18840362375616565\n",
      "epoch: 88/100 , loss: 0.19124096492666376\n",
      "epoch: 89/100 , loss: 0.1902673103983781\n",
      "epoch: 90/100 , loss: 0.18886380301167568\n",
      "epoch: 91/100 , loss: 0.18690561467074146\n",
      "epoch: 92/100 , loss: 0.18817093396602674\n",
      "epoch: 93/100 , loss: 0.18693508415721183\n",
      "epoch: 94/100 , loss: 0.18711974268216033\n",
      "epoch: 95/100 , loss: 0.18486958853322868\n",
      "epoch: 96/100 , loss: 0.18469900510800902\n",
      "epoch: 97/100 , loss: 0.18302650404588658\n",
      "epoch: 98/100 , loss: 0.18399201979672955\n",
      "epoch: 99/100 , loss: 0.18170988100559213\n",
      "epoch: 100/100 , loss: 0.18232306016450242\n"
     ]
    }
   ],
   "source": [
    "def train_regression(train_loader , model , criterion , optimizer ,num_epochs= 10): \n",
    "    model.train()\n",
    "    for epoch in range(num_epochs):\n",
    "        running_loss = 0\n",
    "        for inputs , targets in train_loader: \n",
    "                optimizer.zero_grad()\n",
    "                output=model(inputs) \n",
    "                loss = criterion(output , targets)\n",
    "                loss.backward() # backpropagation\n",
    "                optimizer.step()\n",
    "                running_loss+=loss.item()\n",
    "        print(f\"epoch: {epoch+1}/{num_epochs} , loss: {running_loss/len(train_loader)}\")\n",
    "\n",
    "train_regression(train_loader , pytorch_model , criterion , optimizer , num_epochs=100)\n"
   ]
  },
  {
   "cell_type": "code",
   "execution_count": 182,
   "id": "c6255e94",
   "metadata": {},
   "outputs": [
    {
     "name": "stdout",
     "output_type": "stream",
     "text": [
      "Test loss: 0.2787007662330487\n"
     ]
    }
   ],
   "source": [
    "def eval_regression(test_loader , model):\n",
    "        model.eval()\n",
    "        test_loss = 0.0 \n",
    "        with torch.no_grad():\n",
    "            for X_batch , y_batch in test_loader: \n",
    "               output= model(X_batch) \n",
    "               loss = criterion(output , y_batch)\n",
    "               test_loss += loss.item()\n",
    "        return test_loss/len(test_loader)\n",
    "    \n",
    "test_loss = eval_regression(test_loader , pytorch_model)\n",
    "print(f\"Test loss: {test_loss}\")"
   ]
  }
 ],
 "metadata": {
  "kernelspec": {
   "display_name": "Python 3",
   "language": "python",
   "name": "python3"
  },
  "language_info": {
   "codemirror_mode": {
    "name": "ipython",
    "version": 3
   },
   "file_extension": ".py",
   "mimetype": "text/x-python",
   "name": "python",
   "nbconvert_exporter": "python",
   "pygments_lexer": "ipython3",
   "version": "3.10.11"
  }
 },
 "nbformat": 4,
 "nbformat_minor": 5
}
